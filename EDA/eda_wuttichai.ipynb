{
 "cells": [
  {
   "cell_type": "code",
   "execution_count": null,
   "metadata": {},
   "outputs": [
    {
     "data": {
      "text/plain": [
       "{'status': {'timestamp': '2025-02-24T19:08:32.681Z',\n",
       "  'error_code': 0,\n",
       "  'error_message': None,\n",
       "  'elapsed': 93,\n",
       "  'credit_count': 1,\n",
       "  'notice': None},\n",
       " 'data': {'ADA': {'id': 2010,\n",
       "   'name': 'Cardano',\n",
       "   'symbol': 'ADA',\n",
       "   'slug': 'cardano',\n",
       "   'num_market_pairs': 1466,\n",
       "   'date_added': '2017-10-01T00:00:00.000Z',\n",
       "   'tags': ['dpos',\n",
       "    'pos',\n",
       "    'platform',\n",
       "    'research',\n",
       "    'smart-contracts',\n",
       "    'staking',\n",
       "    'cardano-ecosystem',\n",
       "    'cardano',\n",
       "    'layer-1',\n",
       "    'alleged-sec-securities',\n",
       "    '2017-2018-alt-season',\n",
       "    'made-in-america'],\n",
       "   'max_supply': 45000000000,\n",
       "   'circulating_supply': 35207580215.769005,\n",
       "   'total_supply': 44995048943.8165,\n",
       "   'is_active': 1,\n",
       "   'infinite_supply': False,\n",
       "   'platform': None,\n",
       "   'cmc_rank': 9,\n",
       "   'is_fiat': 0,\n",
       "   'self_reported_circulating_supply': None,\n",
       "   'self_reported_market_cap': None,\n",
       "   'tvl_ratio': None,\n",
       "   'last_updated': '2025-02-24T19:07:00.000Z',\n",
       "   'quote': {'USD': {'price': 0.7267503140919551,\n",
       "     'volume_24h': 691831440.514759,\n",
       "     'volume_change_24h': 44.5272,\n",
       "     'percent_change_1h': -0.33580432,\n",
       "     'percent_change_24h': -5.11485051,\n",
       "     'percent_change_7d': -7.98442902,\n",
       "     'percent_change_30d': -26.15998255,\n",
       "     'percent_change_60d': -15.7416589,\n",
       "     'percent_change_90d': -20.54849214,\n",
       "     'market_cap': 25587119980.22783,\n",
       "     'market_cap_dominance': 0.8279,\n",
       "     'fully_diluted_market_cap': 32703764134.14,\n",
       "     'tvl': None,\n",
       "     'last_updated': '2025-02-24T19:07:00.000Z'}}}}}"
      ]
     },
     "execution_count": 1,
     "metadata": {},
     "output_type": "execute_result"
    }
   ],
   "source": [
    "from requests import Request, Session\n",
    "from requests.exceptions import ConnectionError, Timeout, TooManyRedirects\n",
    "import json\n",
    "from pprint import pprint \n",
    "import os \n",
    "\n",
    "import os \n",
    "from dotenv import load_dotenv\n",
    "\n",
    "load_dotenv()\n",
    "API_KEY = \"84be434e-da03-4a52-8164-b832787660d8\"\n",
    "\n",
    "API_URL = \"https://pro-api.coinmarketcap.com/v1/cryptocurrency/quotes/latest\"\n",
    "\n",
    "target_symbol = \"ADA\"\n",
    "\n",
    "parameters = {\n",
    "  'symbol':target_symbol,\n",
    "  'convert':'USD'\n",
    "}\n",
    "headers = {\n",
    "  'Accepts': 'application/json',\n",
    "  'X-CMC_PRO_API_KEY': API_KEY,\n",
    "}\n",
    "\n",
    "session = Session()\n",
    "session.headers.update(headers)\n",
    "\n",
    "try:\n",
    "  response = session.get(API_URL, params=parameters)\n",
    "  data = json.loads(response.text)\n",
    "  \n",
    "except (ConnectionError, Timeout, TooManyRedirects) as e:\n",
    "  print(e)\n",
    "\n",
    "data"
   ]
  },
  {
   "cell_type": "code",
   "execution_count": 2,
   "metadata": {},
   "outputs": [
    {
     "data": {
      "text/plain": [
       "dict_keys(['ADA'])"
      ]
     },
     "execution_count": 2,
     "metadata": {},
     "output_type": "execute_result"
    }
   ],
   "source": [
    "data[\"data\"].keys()"
   ]
  },
  {
   "cell_type": "code",
   "execution_count": 3,
   "metadata": {},
   "outputs": [
    {
     "data": {
      "text/plain": [
       "dict_keys(['id', 'name', 'symbol', 'slug', 'num_market_pairs', 'date_added', 'tags', 'max_supply', 'circulating_supply', 'total_supply', 'is_active', 'infinite_supply', 'platform', 'cmc_rank', 'is_fiat', 'self_reported_circulating_supply', 'self_reported_market_cap', 'tvl_ratio', 'last_updated', 'quote'])"
      ]
     },
     "execution_count": 3,
     "metadata": {},
     "output_type": "execute_result"
    }
   ],
   "source": [
    "coin_data = data[\"data\"][\"ADA\"]\n",
    "coin_data.keys()"
   ]
  },
  {
   "cell_type": "code",
   "execution_count": 4,
   "metadata": {},
   "outputs": [
    {
     "data": {
      "text/plain": [
       "('Cardano',\n",
       " 'ADA',\n",
       " {'USD': {'price': 0.7267503140919551,\n",
       "   'volume_24h': 691831440.514759,\n",
       "   'volume_change_24h': 44.5272,\n",
       "   'percent_change_1h': -0.33580432,\n",
       "   'percent_change_24h': -5.11485051,\n",
       "   'percent_change_7d': -7.98442902,\n",
       "   'percent_change_30d': -26.15998255,\n",
       "   'percent_change_60d': -15.7416589,\n",
       "   'percent_change_90d': -20.54849214,\n",
       "   'market_cap': 25587119980.22783,\n",
       "   'market_cap_dominance': 0.8279,\n",
       "   'fully_diluted_market_cap': 32703764134.14,\n",
       "   'tvl': None,\n",
       "   'last_updated': '2025-02-24T19:07:00.000Z'}})"
      ]
     },
     "execution_count": 4,
     "metadata": {},
     "output_type": "execute_result"
    }
   ],
   "source": [
    "coin_data[\"name\"], coin_data[\"symbol\"],coin_data[\"quote\"]"
   ]
  },
  {
   "cell_type": "code",
   "execution_count": null,
   "metadata": {},
   "outputs": [],
   "source": [
    "quote = coin_data[\"quote\"][\"USD\"]\n",
    "quote"
   ]
  }
 ],
 "metadata": {
  "kernelspec": {
   "display_name": "Python 3",
   "language": "python",
   "name": "python3"
  },
  "language_info": {
   "codemirror_mode": {
    "name": "ipython",
    "version": 3
   },
   "file_extension": ".py",
   "mimetype": "text/x-python",
   "name": "python",
   "nbconvert_exporter": "python",
   "pygments_lexer": "ipython3",
   "version": "3.12.3"
  }
 },
 "nbformat": 4,
 "nbformat_minor": 2
}
